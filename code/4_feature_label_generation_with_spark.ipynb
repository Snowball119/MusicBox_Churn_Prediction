{
 "cells": [
  {
   "cell_type": "markdown",
   "metadata": {},
   "source": [
    "# Load data into Spark DataFrame"
   ]
  },
  {
   "cell_type": "code",
   "execution_count": 1,
   "metadata": {},
   "outputs": [],
   "source": [
    "import os\n",
    "\n",
    "os.environ['PYSPARK_SUBMIT_ARGS'] = 'pyspark-shell'"
   ]
  },
  {
   "cell_type": "code",
   "execution_count": 2,
   "metadata": {},
   "outputs": [],
   "source": [
    "import findspark"
   ]
  },
  {
   "cell_type": "code",
   "execution_count": 3,
   "metadata": {},
   "outputs": [],
   "source": [
    "#findspark.init('/path_to_spark/spark-x.x.x-bin-hadoopx.x')\n",
    "findspark.init('/Users/xuejiwang/spark/spark-2.3.2-bin-hadoop2.7')"
   ]
  },
  {
   "cell_type": "code",
   "execution_count": 4,
   "metadata": {},
   "outputs": [],
   "source": [
    "from pyspark.sql import SparkSession\n",
    "from pyspark import SparkContext\n",
    "import pyspark.sql.functions as F"
   ]
  },
  {
   "cell_type": "code",
   "execution_count": 5,
   "metadata": {},
   "outputs": [],
   "source": [
    "spark = SparkSession.builder.appName(\"basics\").getOrCreate()"
   ]
  },
  {
   "cell_type": "code",
   "execution_count": 6,
   "metadata": {},
   "outputs": [],
   "source": [
    "# We use matplotlib for plotting\n",
    "import matplotlib.pyplot as plt\n",
    "\n",
    "# This statement allow to display plot without asking to\n",
    "%matplotlib inline"
   ]
  },
  {
   "cell_type": "code",
   "execution_count": 7,
   "metadata": {},
   "outputs": [
    {
     "data": {
      "text/plain": [
       "DataFrame[uid: string, event: string, song_id: string, date: string]"
      ]
     },
     "execution_count": 7,
     "metadata": {},
     "output_type": "execute_result"
    }
   ],
   "source": [
    "df = spark.read.csv('/Users/xuejiwang/Documents/dev/MusicBox/data/event_ds.csv',header=True).cache()\n",
    "df"
   ]
  },
  {
   "cell_type": "code",
   "execution_count": 13,
   "metadata": {},
   "outputs": [
    {
     "data": {
      "text/plain": [
       "12269414"
      ]
     },
     "execution_count": 13,
     "metadata": {},
     "output_type": "execute_result"
    }
   ],
   "source": [
    "df.count()"
   ]
  },
  {
   "cell_type": "code",
   "execution_count": 9,
   "metadata": {},
   "outputs": [
    {
     "name": "stdout",
     "output_type": "stream",
     "text": [
      "root\n",
      " |-- uid: string (nullable = true)\n",
      " |-- event: string (nullable = true)\n",
      " |-- song_id: string (nullable = true)\n",
      " |-- date: string (nullable = true)\n",
      "\n"
     ]
    }
   ],
   "source": [
    "df.printSchema()"
   ]
  },
  {
   "cell_type": "code",
   "execution_count": 10,
   "metadata": {},
   "outputs": [
    {
     "data": {
      "text/plain": [
       "DataFrame[uid: string, event: string, song_id: string, date: date]"
      ]
     },
     "execution_count": 10,
     "metadata": {},
     "output_type": "execute_result"
    }
   ],
   "source": [
    "# create new or overwrite original field with withColumn\n",
    "df = df.withColumn('date',F.col('date').cast('date'))\n",
    "df"
   ]
  },
  {
   "cell_type": "code",
   "execution_count": 11,
   "metadata": {},
   "outputs": [
    {
     "name": "stdout",
     "output_type": "stream",
     "text": [
      "+---------+-----+--------+----------+\n",
      "|      uid|event| song_id|      date|\n",
      "+---------+-----+--------+----------+\n",
      "|168551042|    P|  505355|2017-03-30|\n",
      "|168551430|    P| 1179220|2017-03-30|\n",
      "|168550728|    P|  285233|2017-03-30|\n",
      "|168551408|    P|15750838|2017-03-30|\n",
      "|168551179|    P|23485496|2017-03-30|\n",
      "|168551546|    P| 1474915|2017-03-30|\n",
      "|168551626|    P| 8131487|2017-03-30|\n",
      "|168542680|    P|       0|2017-03-30|\n",
      "|168551166|    P| 1244660|2017-03-30|\n",
      "|168551166|    P|  945320|2017-03-30|\n",
      "|168551495|    P|22797719|2017-03-30|\n",
      "|168551357|    P|23497506|2017-03-30|\n",
      "|168551182|    P|23491653|2017-03-30|\n",
      "|168539955|    P|12913682|2017-03-30|\n",
      "|168551166|    P|  169744|2017-03-30|\n",
      "|168551197|    P| 7078121|2017-03-30|\n",
      "|168548246|    P|23314223|2017-03-30|\n",
      "|168548840|    P|20066194|2017-03-30|\n",
      "|168546993|    P| 1024747|2017-03-30|\n",
      "|168547258|    P|16400733|2017-03-30|\n",
      "+---------+-----+--------+----------+\n",
      "only showing top 20 rows\n",
      "\n"
     ]
    }
   ],
   "source": [
    "df.show()"
   ]
  },
  {
   "cell_type": "code",
   "execution_count": 15,
   "metadata": {},
   "outputs": [
    {
     "name": "stdout",
     "output_type": "stream",
     "text": [
      "+-----+--------+\n",
      "|event|   count|\n",
      "+-----+--------+\n",
      "|    D|  613027|\n",
      "|    S|  769282|\n",
      "|    P|10887105|\n",
      "+-----+--------+\n",
      "\n"
     ]
    }
   ],
   "source": [
    "df.groupby('event').count().show()"
   ]
  },
  {
   "cell_type": "markdown",
   "metadata": {},
   "source": [
    "# Some exploration"
   ]
  },
  {
   "cell_type": "code",
   "execution_count": 14,
   "metadata": {},
   "outputs": [
    {
     "data": {
      "text/plain": [
       "12269414"
      ]
     },
     "execution_count": 14,
     "metadata": {},
     "output_type": "execute_result"
    }
   ],
   "source": [
    "# simple count rows\n",
    "df.count()"
   ]
  },
  {
   "cell_type": "code",
   "execution_count": 194,
   "metadata": {},
   "outputs": [
    {
     "data": {
      "text/plain": [
       "59411"
      ]
     },
     "execution_count": 194,
     "metadata": {},
     "output_type": "execute_result"
    }
   ],
   "source": [
    "# select operation, count distinct rows\n",
    "df.select('uid').distinct().count()"
   ]
  },
  {
   "cell_type": "code",
   "execution_count": 195,
   "metadata": {},
   "outputs": [
    {
     "name": "stdout",
     "output_type": "stream",
     "text": [
      "+-----+--------+\n",
      "|event|   count|\n",
      "+-----+--------+\n",
      "|    D|  613027|\n",
      "|    S|  769282|\n",
      "|    P|10887105|\n",
      "+-----+--------+\n",
      "\n"
     ]
    }
   ],
   "source": [
    "# group by aggregation\n",
    "df.groupBy('event').count().show()"
   ]
  },
  {
   "cell_type": "code",
   "execution_count": 196,
   "metadata": {},
   "outputs": [
    {
     "data": {
      "text/plain": [
       "44"
      ]
     },
     "execution_count": 196,
     "metadata": {},
     "output_type": "execute_result"
    }
   ],
   "source": [
    "df.select('date').distinct().count()"
   ]
  },
  {
   "cell_type": "markdown",
   "metadata": {},
   "source": [
    "There are 44 days download, play, search records. \n",
    "We use the former 30 days as feature window, and use the last 14 days as label window.\n",
    "Create features in the 30 days to predict Churn rate."
   ]
  },
  {
   "cell_type": "code",
   "execution_count": 259,
   "metadata": {},
   "outputs": [
    {
     "name": "stdout",
     "output_type": "stream",
     "text": [
      "+----------+------+\n",
      "|      date| count|\n",
      "+----------+------+\n",
      "|2017-04-09|344203|\n",
      "|2017-05-11|184119|\n",
      "|2017-04-25|218138|\n",
      "|2017-04-03|303485|\n",
      "|2017-04-29|223130|\n",
      "|2017-05-10|189022|\n",
      "|2017-05-09|195240|\n",
      "|2017-04-07|339625|\n",
      "|2017-04-02|489831|\n",
      "|2017-04-11|194573|\n",
      "|2017-04-12|289680|\n",
      "|2017-04-05|345457|\n",
      "|2017-04-20|248819|\n",
      "|2017-04-27|236793|\n",
      "|2017-04-18|247928|\n",
      "|2017-04-30|224652|\n",
      "|2017-05-05|198778|\n",
      "|2017-04-15|287703|\n",
      "|2017-04-26|208620|\n",
      "|2017-03-30|705670|\n",
      "+----------+------+\n",
      "only showing top 20 rows\n",
      "\n"
     ]
    }
   ],
   "source": [
    "df.groupby('date').count().show()"
   ]
  },
  {
   "cell_type": "code",
   "execution_count": 201,
   "metadata": {},
   "outputs": [
    {
     "name": "stdout",
     "output_type": "stream",
     "text": [
      "+-----+--------+--------+\n",
      "|event|   count| max_uid|\n",
      "+-----+--------+--------+\n",
      "|    D|  613027|98871144|\n",
      "|    S|  769282| 9920471|\n",
      "|    P|10887105| 9920471|\n",
      "+-----+--------+--------+\n",
      "\n"
     ]
    }
   ],
   "source": [
    "# group by aggregation, more general (count, min, max, mean), multiple at once\n",
    "df.groupBy('event').agg(\n",
    "    F.count(F.col('uid')).alias('count'),\n",
    "    F.max(F.col('uid')).alias('max_uid')\n",
    ").show()"
   ]
  },
  {
   "cell_type": "code",
   "execution_count": 202,
   "metadata": {},
   "outputs": [
    {
     "name": "stdout",
     "output_type": "stream",
     "text": [
      "+----------+-----+------+\n",
      "|      date|event| count|\n",
      "+----------+-----+------+\n",
      "|2017-04-01|    D| 29440|\n",
      "|2017-04-01|    P|482894|\n",
      "|2017-04-01|    S| 32580|\n",
      "|2017-04-02|    D| 23349|\n",
      "|2017-04-02|    P|436546|\n",
      "|2017-04-02|    S| 29936|\n",
      "|2017-04-03|    D| 20552|\n",
      "|2017-04-03|    P|256234|\n",
      "|2017-04-03|    S| 26699|\n",
      "|2017-04-04|    D| 19802|\n",
      "|2017-04-04|    P|372350|\n",
      "|2017-04-04|    S| 24811|\n",
      "|2017-04-05|    D| 15640|\n",
      "|2017-04-05|    P|309273|\n",
      "|2017-04-05|    S| 20544|\n",
      "+----------+-----+------+\n",
      "\n"
     ]
    }
   ],
   "source": [
    "# filter operation\n",
    "# group by aggregation\n",
    "# order by operation\n",
    "df.filter((F.col('date')>='2017-04-01') & (F.col('date')<='2017-04-05')) \\\n",
    "                    .groupBy('date','event').count() \\\n",
    "                    .orderBy('date','event').show()\n",
    "\n",
    "# 得到每天的不同event counts"
   ]
  },
  {
   "cell_type": "code",
   "execution_count": 203,
   "metadata": {},
   "outputs": [],
   "source": [
    "# Spark dataframe和pandas dataframe之间可以相互转换\n",
    "\n",
    "#不管event 类型，只看每天count变化\n",
    "date_count = df.groupBy('date').count().toPandas()"
   ]
  },
  {
   "cell_type": "code",
   "execution_count": 204,
   "metadata": {},
   "outputs": [
    {
     "data": {
      "text/html": [
       "<div>\n",
       "<style scoped>\n",
       "    .dataframe tbody tr th:only-of-type {\n",
       "        vertical-align: middle;\n",
       "    }\n",
       "\n",
       "    .dataframe tbody tr th {\n",
       "        vertical-align: top;\n",
       "    }\n",
       "\n",
       "    .dataframe thead th {\n",
       "        text-align: right;\n",
       "    }\n",
       "</style>\n",
       "<table border=\"1\" class=\"dataframe\">\n",
       "  <thead>\n",
       "    <tr style=\"text-align: right;\">\n",
       "      <th></th>\n",
       "      <th>date</th>\n",
       "      <th>count</th>\n",
       "    </tr>\n",
       "  </thead>\n",
       "  <tbody>\n",
       "    <tr>\n",
       "      <th>0</th>\n",
       "      <td>2017-04-09</td>\n",
       "      <td>344203</td>\n",
       "    </tr>\n",
       "    <tr>\n",
       "      <th>1</th>\n",
       "      <td>2017-05-11</td>\n",
       "      <td>184119</td>\n",
       "    </tr>\n",
       "    <tr>\n",
       "      <th>2</th>\n",
       "      <td>2017-04-25</td>\n",
       "      <td>218138</td>\n",
       "    </tr>\n",
       "    <tr>\n",
       "      <th>3</th>\n",
       "      <td>2017-04-03</td>\n",
       "      <td>303485</td>\n",
       "    </tr>\n",
       "    <tr>\n",
       "      <th>4</th>\n",
       "      <td>2017-04-29</td>\n",
       "      <td>223130</td>\n",
       "    </tr>\n",
       "    <tr>\n",
       "      <th>5</th>\n",
       "      <td>2017-05-10</td>\n",
       "      <td>189022</td>\n",
       "    </tr>\n",
       "    <tr>\n",
       "      <th>6</th>\n",
       "      <td>2017-05-09</td>\n",
       "      <td>195240</td>\n",
       "    </tr>\n",
       "    <tr>\n",
       "      <th>7</th>\n",
       "      <td>2017-04-07</td>\n",
       "      <td>339625</td>\n",
       "    </tr>\n",
       "    <tr>\n",
       "      <th>8</th>\n",
       "      <td>2017-04-02</td>\n",
       "      <td>489831</td>\n",
       "    </tr>\n",
       "    <tr>\n",
       "      <th>9</th>\n",
       "      <td>2017-04-11</td>\n",
       "      <td>194573</td>\n",
       "    </tr>\n",
       "  </tbody>\n",
       "</table>\n",
       "</div>"
      ],
      "text/plain": [
       "         date   count\n",
       "0  2017-04-09  344203\n",
       "1  2017-05-11  184119\n",
       "2  2017-04-25  218138\n",
       "3  2017-04-03  303485\n",
       "4  2017-04-29  223130\n",
       "5  2017-05-10  189022\n",
       "6  2017-05-09  195240\n",
       "7  2017-04-07  339625\n",
       "8  2017-04-02  489831\n",
       "9  2017-04-11  194573"
      ]
     },
     "execution_count": 204,
     "metadata": {},
     "output_type": "execute_result"
    }
   ],
   "source": [
    "date_count.head(10)"
   ]
  },
  {
   "cell_type": "code",
   "execution_count": 205,
   "metadata": {},
   "outputs": [
    {
     "data": {
      "text/plain": [
       "(array([736419., 736426., 736433., 736440., 736447., 736454., 736461.]),\n",
       " <a list of 7 Text xticklabel objects>)"
      ]
     },
     "execution_count": 205,
     "metadata": {},
     "output_type": "execute_result"
    },
    {
     "data": {
      "image/png": "[encoded data removed]",
      "text/plain": [
       "<matplotlib.figure.Figure at 0x112a655c0>"
      ]
     },
     "metadata": {},
     "output_type": "display_data"
    }
   ],
   "source": [
    "plt.bar(date_count['date'],date_count['count'])\n",
    "plt.xticks(rotation='vertical')"
   ]
  },
  {
   "cell_type": "markdown",
   "metadata": {},
   "source": [
    "### check download, play, search behavior respectively"
   ]
  },
  {
   "cell_type": "code",
   "execution_count": 206,
   "metadata": {},
   "outputs": [
    {
     "data": {
      "text/plain": [
       "[Row(uid='168551042', event='P', song_id='505355', date=datetime.date(2017, 3, 30)),\n",
       " Row(uid='168551430', event='P', song_id='1179220', date=datetime.date(2017, 3, 30)),\n",
       " Row(uid='168550728', event='P', song_id='285233', date=datetime.date(2017, 3, 30)),\n",
       " Row(uid='168551408', event='P', song_id='15750838', date=datetime.date(2017, 3, 30)),\n",
       " Row(uid='168551179', event='P', song_id='23485496', date=datetime.date(2017, 3, 30)),\n",
       " Row(uid='168551546', event='P', song_id='1474915', date=datetime.date(2017, 3, 30)),\n",
       " Row(uid='168551626', event='P', song_id='8131487', date=datetime.date(2017, 3, 30)),\n",
       " Row(uid='168542680', event='P', song_id='0', date=datetime.date(2017, 3, 30)),\n",
       " Row(uid='168551166', event='P', song_id='1244660', date=datetime.date(2017, 3, 30)),\n",
       " Row(uid='168551166', event='P', song_id='945320', date=datetime.date(2017, 3, 30))]"
      ]
     },
     "execution_count": 206,
     "metadata": {},
     "output_type": "execute_result"
    }
   ],
   "source": [
    "# play behavior\n",
    "df_play = df.filter(F.col('event') == 'P')\n",
    "df_play.head(10)"
   ]
  },
  {
   "cell_type": "code",
   "execution_count": 55,
   "metadata": {},
   "outputs": [],
   "source": [
    "df_play_date = df_play.groupBy('date').count().toPandas()"
   ]
  },
  {
   "cell_type": "code",
   "execution_count": 56,
   "metadata": {},
   "outputs": [
    {
     "data": {
      "text/html": [
       "<div>\n",
       "<style scoped>\n",
       "    .dataframe tbody tr th:only-of-type {\n",
       "        vertical-align: middle;\n",
       "    }\n",
       "\n",
       "    .dataframe tbody tr th {\n",
       "        vertical-align: top;\n",
       "    }\n",
       "\n",
       "    .dataframe thead th {\n",
       "        text-align: right;\n",
       "    }\n",
       "</style>\n",
       "<table border=\"1\" class=\"dataframe\">\n",
       "  <thead>\n",
       "    <tr style=\"text-align: right;\">\n",
       "      <th></th>\n",
       "      <th>date</th>\n",
       "      <th>count</th>\n",
       "    </tr>\n",
       "  </thead>\n",
       "  <tbody>\n",
       "    <tr>\n",
       "      <th>0</th>\n",
       "      <td>2017-04-09</td>\n",
       "      <td>310297</td>\n",
       "    </tr>\n",
       "    <tr>\n",
       "      <th>1</th>\n",
       "      <td>2017-05-11</td>\n",
       "      <td>169396</td>\n",
       "    </tr>\n",
       "    <tr>\n",
       "      <th>2</th>\n",
       "      <td>2017-04-25</td>\n",
       "      <td>202315</td>\n",
       "    </tr>\n",
       "    <tr>\n",
       "      <th>3</th>\n",
       "      <td>2017-04-03</td>\n",
       "      <td>256234</td>\n",
       "    </tr>\n",
       "    <tr>\n",
       "      <th>4</th>\n",
       "      <td>2017-04-29</td>\n",
       "      <td>201658</td>\n",
       "    </tr>\n",
       "    <tr>\n",
       "      <th>5</th>\n",
       "      <td>2017-05-10</td>\n",
       "      <td>173114</td>\n",
       "    </tr>\n",
       "    <tr>\n",
       "      <th>6</th>\n",
       "      <td>2017-05-09</td>\n",
       "      <td>177412</td>\n",
       "    </tr>\n",
       "    <tr>\n",
       "      <th>7</th>\n",
       "      <td>2017-04-07</td>\n",
       "      <td>306038</td>\n",
       "    </tr>\n",
       "    <tr>\n",
       "      <th>8</th>\n",
       "      <td>2017-04-02</td>\n",
       "      <td>436546</td>\n",
       "    </tr>\n",
       "    <tr>\n",
       "      <th>9</th>\n",
       "      <td>2017-04-11</td>\n",
       "      <td>177007</td>\n",
       "    </tr>\n",
       "  </tbody>\n",
       "</table>\n",
       "</div>"
      ],
      "text/plain": [
       "         date   count\n",
       "0  2017-04-09  310297\n",
       "1  2017-05-11  169396\n",
       "2  2017-04-25  202315\n",
       "3  2017-04-03  256234\n",
       "4  2017-04-29  201658\n",
       "5  2017-05-10  173114\n",
       "6  2017-05-09  177412\n",
       "7  2017-04-07  306038\n",
       "8  2017-04-02  436546\n",
       "9  2017-04-11  177007"
      ]
     },
     "execution_count": 56,
     "metadata": {},
     "output_type": "execute_result"
    }
   ],
   "source": [
    "df_play_date.head(10)"
   ]
  },
  {
   "cell_type": "code",
   "execution_count": 69,
   "metadata": {},
   "outputs": [
    {
     "data": {
      "text/plain": [
       "Text(0,0.5,'Number of Play')"
      ]
     },
     "execution_count": 69,
     "metadata": {},
     "output_type": "execute_result"
    },
    {
     "data": {
      "image/png": "[encoded data removed]",
      "text/plain": [
       "<matplotlib.figure.Figure at 0x11256fbe0>"
      ]
     },
     "metadata": {},
     "output_type": "display_data"
    }
   ],
   "source": [
    "plt.bar(df_play_date['date'],df_play_date['count'])\n",
    "plt.xticks(rotation='vertical')\n",
    "plt.ylabel('Number of Play')"
   ]
  },
  {
   "cell_type": "code",
   "execution_count": 64,
   "metadata": {},
   "outputs": [
    {
     "data": {
      "text/html": [
       "<div>\n",
       "<style scoped>\n",
       "    .dataframe tbody tr th:only-of-type {\n",
       "        vertical-align: middle;\n",
       "    }\n",
       "\n",
       "    .dataframe tbody tr th {\n",
       "        vertical-align: top;\n",
       "    }\n",
       "\n",
       "    .dataframe thead th {\n",
       "        text-align: right;\n",
       "    }\n",
       "</style>\n",
       "<table border=\"1\" class=\"dataframe\">\n",
       "  <thead>\n",
       "    <tr style=\"text-align: right;\">\n",
       "      <th></th>\n",
       "      <th>date</th>\n",
       "      <th>count</th>\n",
       "    </tr>\n",
       "  </thead>\n",
       "  <tbody>\n",
       "    <tr>\n",
       "      <th>0</th>\n",
       "      <td>2017-04-09</td>\n",
       "      <td>13720</td>\n",
       "    </tr>\n",
       "    <tr>\n",
       "      <th>1</th>\n",
       "      <td>2017-05-11</td>\n",
       "      <td>4858</td>\n",
       "    </tr>\n",
       "    <tr>\n",
       "      <th>2</th>\n",
       "      <td>2017-04-25</td>\n",
       "      <td>6968</td>\n",
       "    </tr>\n",
       "    <tr>\n",
       "      <th>3</th>\n",
       "      <td>2017-04-03</td>\n",
       "      <td>20552</td>\n",
       "    </tr>\n",
       "    <tr>\n",
       "      <th>4</th>\n",
       "      <td>2017-04-29</td>\n",
       "      <td>8748</td>\n",
       "    </tr>\n",
       "    <tr>\n",
       "      <th>5</th>\n",
       "      <td>2017-05-10</td>\n",
       "      <td>6337</td>\n",
       "    </tr>\n",
       "    <tr>\n",
       "      <th>6</th>\n",
       "      <td>2017-05-09</td>\n",
       "      <td>7339</td>\n",
       "    </tr>\n",
       "    <tr>\n",
       "      <th>7</th>\n",
       "      <td>2017-04-07</td>\n",
       "      <td>14156</td>\n",
       "    </tr>\n",
       "    <tr>\n",
       "      <th>8</th>\n",
       "      <td>2017-04-02</td>\n",
       "      <td>23349</td>\n",
       "    </tr>\n",
       "    <tr>\n",
       "      <th>9</th>\n",
       "      <td>2017-04-11</td>\n",
       "      <td>7414</td>\n",
       "    </tr>\n",
       "  </tbody>\n",
       "</table>\n",
       "</div>"
      ],
      "text/plain": [
       "         date  count\n",
       "0  2017-04-09  13720\n",
       "1  2017-05-11   4858\n",
       "2  2017-04-25   6968\n",
       "3  2017-04-03  20552\n",
       "4  2017-04-29   8748\n",
       "5  2017-05-10   6337\n",
       "6  2017-05-09   7339\n",
       "7  2017-04-07  14156\n",
       "8  2017-04-02  23349\n",
       "9  2017-04-11   7414"
      ]
     },
     "execution_count": 64,
     "metadata": {},
     "output_type": "execute_result"
    }
   ],
   "source": [
    "# dowload\n",
    "df_down_date = df.filter(F.col('event') == 'D').groupby('date').count().toPandas()\n",
    "df_down_date.head(10)"
   ]
  },
  {
   "cell_type": "code",
   "execution_count": 70,
   "metadata": {},
   "outputs": [
    {
     "data": {
      "text/plain": [
       "Text(0,0.5,'Number of Download')"
      ]
     },
     "execution_count": 70,
     "metadata": {},
     "output_type": "execute_result"
    },
    {
     "data": {
      "image/png": "[encoded data removed]",
      "text/plain": [
       "<matplotlib.figure.Figure at 0x1126fe5c0>"
      ]
     },
     "metadata": {},
     "output_type": "display_data"
    }
   ],
   "source": [
    "plt.bar(df_down_date['date'],df_down_date['count'])\n",
    "plt.xticks(rotation='vertical')\n",
    "plt.ylabel('Number of Download')"
   ]
  },
  {
   "cell_type": "code",
   "execution_count": 68,
   "metadata": {},
   "outputs": [
    {
     "data": {
      "text/html": [
       "<div>\n",
       "<style scoped>\n",
       "    .dataframe tbody tr th:only-of-type {\n",
       "        vertical-align: middle;\n",
       "    }\n",
       "\n",
       "    .dataframe tbody tr th {\n",
       "        vertical-align: top;\n",
       "    }\n",
       "\n",
       "    .dataframe thead th {\n",
       "        text-align: right;\n",
       "    }\n",
       "</style>\n",
       "<table border=\"1\" class=\"dataframe\">\n",
       "  <thead>\n",
       "    <tr style=\"text-align: right;\">\n",
       "      <th></th>\n",
       "      <th>date</th>\n",
       "      <th>count</th>\n",
       "    </tr>\n",
       "  </thead>\n",
       "  <tbody>\n",
       "    <tr>\n",
       "      <th>0</th>\n",
       "      <td>2017-04-09</td>\n",
       "      <td>20186</td>\n",
       "    </tr>\n",
       "    <tr>\n",
       "      <th>1</th>\n",
       "      <td>2017-05-11</td>\n",
       "      <td>9865</td>\n",
       "    </tr>\n",
       "    <tr>\n",
       "      <th>2</th>\n",
       "      <td>2017-04-25</td>\n",
       "      <td>8855</td>\n",
       "    </tr>\n",
       "    <tr>\n",
       "      <th>3</th>\n",
       "      <td>2017-04-03</td>\n",
       "      <td>26699</td>\n",
       "    </tr>\n",
       "    <tr>\n",
       "      <th>4</th>\n",
       "      <td>2017-04-29</td>\n",
       "      <td>12724</td>\n",
       "    </tr>\n",
       "    <tr>\n",
       "      <th>5</th>\n",
       "      <td>2017-05-10</td>\n",
       "      <td>9571</td>\n",
       "    </tr>\n",
       "    <tr>\n",
       "      <th>6</th>\n",
       "      <td>2017-05-09</td>\n",
       "      <td>10489</td>\n",
       "    </tr>\n",
       "    <tr>\n",
       "      <th>7</th>\n",
       "      <td>2017-04-07</td>\n",
       "      <td>19431</td>\n",
       "    </tr>\n",
       "    <tr>\n",
       "      <th>8</th>\n",
       "      <td>2017-04-02</td>\n",
       "      <td>29936</td>\n",
       "    </tr>\n",
       "    <tr>\n",
       "      <th>9</th>\n",
       "      <td>2017-04-11</td>\n",
       "      <td>10152</td>\n",
       "    </tr>\n",
       "  </tbody>\n",
       "</table>\n",
       "</div>"
      ],
      "text/plain": [
       "         date  count\n",
       "0  2017-04-09  20186\n",
       "1  2017-05-11   9865\n",
       "2  2017-04-25   8855\n",
       "3  2017-04-03  26699\n",
       "4  2017-04-29  12724\n",
       "5  2017-05-10   9571\n",
       "6  2017-05-09  10489\n",
       "7  2017-04-07  19431\n",
       "8  2017-04-02  29936\n",
       "9  2017-04-11  10152"
      ]
     },
     "execution_count": 68,
     "metadata": {},
     "output_type": "execute_result"
    }
   ],
   "source": [
    "# search\n",
    "df_search_date = df.filter(F.col('event') == 'S').groupby('date').count().toPandas()\n",
    "df_search_date.head(10)"
   ]
  },
  {
   "cell_type": "code",
   "execution_count": 71,
   "metadata": {},
   "outputs": [
    {
     "data": {
      "text/plain": [
       "Text(0,0.5,'Number of Search')"
      ]
     },
     "execution_count": 71,
     "metadata": {},
     "output_type": "execute_result"
    },
    {
     "data": {
      "image/png": "[encoded data removed]",
      "text/plain": [
       "<matplotlib.figure.Figure at 0x112713e48>"
      ]
     },
     "metadata": {},
     "output_type": "display_data"
    }
   ],
   "source": [
    "plt.bar(df_search_date['date'],df_search_date['count'])\n",
    "plt.xticks(rotation='vertical')\n",
    "plt.ylabel('Number of Search')\n",
    "# continue decreasing"
   ]
  },
  {
   "cell_type": "markdown",
   "metadata": {},
   "source": [
    "# Label definition"
   ]
  },
  {
   "cell_type": "code",
   "execution_count": 67,
   "metadata": {},
   "outputs": [
    {
     "name": "stdout",
     "output_type": "stream",
     "text": [
      "label window: 2017-04-29 ~ 2017-05-12 days: 14\n",
      "feature window: 2017-03-30 ~ 2017-04-28 days: 30\n"
     ]
    }
   ],
   "source": [
    "import datetime\n",
    "from dateutil import parser\n",
    "\n",
    "label_window_size = 14\n",
    "label_window_end_date= parser.parse('2017-05-12').date()\n",
    "label_window_start_date = label_window_end_date - datetime.timedelta(label_window_size - 1)\n",
    "print('label window:',label_window_start_date,'~',label_window_end_date,'days:',label_window_size)\n",
    "\n",
    "feature_window_size = 30\n",
    "feature_window_end_date = label_window_start_date - datetime.timedelta(1)\n",
    "feature_window_start_date = feature_window_end_date  - datetime.timedelta(feature_window_size - 1)\n",
    "print('feature window:',feature_window_start_date,'~',feature_window_end_date,'days:',feature_window_size)"
   ]
  },
  {
   "cell_type": "code",
   "execution_count": 68,
   "metadata": {},
   "outputs": [
    {
     "data": {
      "text/plain": [
       "(datetime.datetime(2017, 5, 12, 0, 0), datetime.date(2017, 5, 12))"
      ]
     },
     "execution_count": 68,
     "metadata": {},
     "output_type": "execute_result"
    }
   ],
   "source": [
    "tmp = parser.parse('2017-05-12')\n",
    "tmp,label_window_end_date"
   ]
  },
  {
   "cell_type": "code",
   "execution_count": 69,
   "metadata": {},
   "outputs": [
    {
     "data": {
      "text/plain": [
       "datetime.timedelta(0)"
      ]
     },
     "execution_count": 69,
     "metadata": {},
     "output_type": "execute_result"
    }
   ],
   "source": [
    "# timedelta() A duration expressing the difference between two date, time, \n",
    "# or datetime instances to microsecond resolution.\n",
    "datetime.timedelta()"
   ]
  },
  {
   "cell_type": "markdown",
   "metadata": {},
   "source": [
    "#### Only consider uids that were logged/active in feature window\n",
    "df_model_uid contains the users who were active in feature window"
   ]
  },
  {
   "cell_type": "code",
   "execution_count": 70,
   "metadata": {},
   "outputs": [],
   "source": [
    "# all the uid we will model\n",
    "df_model_uid = df.filter((F.col('date')>=feature_window_start_date) & (F.col('date')<=feature_window_end_date))\\\n",
    "                    .select('uid').distinct()"
   ]
  },
  {
   "cell_type": "code",
   "execution_count": 71,
   "metadata": {},
   "outputs": [
    {
     "data": {
      "text/plain": [
       "58184"
      ]
     },
     "execution_count": 71,
     "metadata": {},
     "output_type": "execute_result"
    }
   ],
   "source": [
    "df_model_uid.count()"
   ]
  },
  {
   "cell_type": "markdown",
   "metadata": {},
   "source": [
    "### Define churn\n",
    "\n",
    "If one user was active in former 30 days (have log in feature window) and inactive in the later 14 days (no logs of uid in label window),\n",
    "then the user is regarded as churned."
   ]
  },
  {
   "cell_type": "code",
   "execution_count": 72,
   "metadata": {},
   "outputs": [],
   "source": [
    "# active in label window (active label=0)\n",
    "# logged in feature window means active, lable = 0\n",
    "df_active_uid_in_label_window = df.filter((F.col('date')>=label_window_start_date) & (F.col('date')<=label_window_end_date))\\\n",
    "                            .select('uid').distinct().withColumn('label',F.lit(0))\n",
    "\n",
    "#F.lit() Creates a Column of literal value."
   ]
  },
  {
   "cell_type": "code",
   "execution_count": 73,
   "metadata": {},
   "outputs": [
    {
     "data": {
      "text/plain": [
       "(23224, 0.3991475319675512, 0.6008524680324487)"
      ]
     },
     "execution_count": 73,
     "metadata": {},
     "output_type": "execute_result"
    }
   ],
   "source": [
    "df_active_uid_in_label_window.count(),\\\n",
    "df_active_uid_in_label_window.count()/df_model_uid.count(),\\\n",
    "1- (df_active_uid_in_label_window.count()/df_model_uid.count())"
   ]
  },
  {
   "cell_type": "markdown",
   "metadata": {},
   "source": [
    "The percentage of active user in label window is 39.91%, that is to say, churn rate is 60.09%."
   ]
  },
  {
   "cell_type": "markdown",
   "metadata": {},
   "source": [
    "#### prepare label data (churn label=1; active label=0)\n",
    "Left join active user in label window dataframe to full dataset, then the label of joined dataframe will be null value. Then fill the null value with 1 (churn)."
   ]
  },
  {
   "cell_type": "code",
   "execution_count": 74,
   "metadata": {},
   "outputs": [],
   "source": [
    "# prepare label data (churn label=1; active label=0)\n",
    "df_label = df_model_uid.join(df_active_uid_in_label_window,on=['uid'],how ='left')"
   ]
  },
  {
   "cell_type": "code",
   "execution_count": 75,
   "metadata": {},
   "outputs": [
    {
     "name": "stdout",
     "output_type": "stream",
     "text": [
      "+-----+-----+\n",
      "|label|count|\n",
      "+-----+-----+\n",
      "| null|36187|\n",
      "|    0|21997|\n",
      "+-----+-----+\n",
      "\n"
     ]
    }
   ],
   "source": [
    "df_label.groupby('label').count().show()"
   ]
  },
  {
   "cell_type": "code",
   "execution_count": 76,
   "metadata": {},
   "outputs": [],
   "source": [
    "df_label = df_label.fillna(1)"
   ]
  },
  {
   "cell_type": "code",
   "execution_count": 77,
   "metadata": {},
   "outputs": [
    {
     "name": "stdout",
     "output_type": "stream",
     "text": [
      "+---------+-----+\n",
      "|      uid|label|\n",
      "+---------+-----+\n",
      "|148413435|    0|\n",
      "|154708890|    1|\n",
      "|166351678|    1|\n",
      "|166601616|    0|\n",
      "|167570656|    1|\n",
      "|167571423|    0|\n",
      "|167579073|    1|\n",
      "|167587629|    1|\n",
      "|167589113|    1|\n",
      "|167601016|    1|\n",
      "|167606196|    1|\n",
      "|167631789|    1|\n",
      "|167640783|    1|\n",
      "|167666341|    1|\n",
      "|167669429|    1|\n",
      "|167672887|    0|\n",
      "|167673619|    0|\n",
      "|167684710|    1|\n",
      "|167688259|    0|\n",
      "|167690867|    0|\n",
      "+---------+-----+\n",
      "only showing top 20 rows\n",
      "\n"
     ]
    }
   ],
   "source": [
    "df_label.show()"
   ]
  },
  {
   "cell_type": "code",
   "execution_count": 78,
   "metadata": {},
   "outputs": [
    {
     "name": "stdout",
     "output_type": "stream",
     "text": [
      "+-----+-----+\n",
      "|label|count|\n",
      "+-----+-----+\n",
      "|    1|36187|\n",
      "|    0|21997|\n",
      "+-----+-----+\n",
      "\n"
     ]
    }
   ],
   "source": [
    "df_label.groupBy('label').count().show()"
   ]
  },
  {
   "cell_type": "code",
   "execution_count": 79,
   "metadata": {},
   "outputs": [
    {
     "data": {
      "text/plain": [
       "0.37805926027773956"
      ]
     },
     "execution_count": 79,
     "metadata": {},
     "output_type": "execute_result"
    }
   ],
   "source": [
    "df_label.filter(F.col('label') == 0).count()/df_label.count()"
   ]
  },
  {
   "cell_type": "markdown",
   "metadata": {},
   "source": [
    "# Feature generation"
   ]
  },
  {
   "cell_type": "code",
   "execution_count": 80,
   "metadata": {},
   "outputs": [],
   "source": [
    "# event_data in feature_window\n",
    "df_feature_window = df.filter((F.col('date')>=feature_window_start_date) & (F.col('date')<=feature_window_end_date))"
   ]
  },
  {
   "cell_type": "code",
   "execution_count": 30,
   "metadata": {},
   "outputs": [],
   "source": [
    "#df_feature_window.show()"
   ]
  },
  {
   "cell_type": "markdown",
   "metadata": {},
   "source": [
    "### Frequency features"
   ]
  },
  {
   "cell_type": "markdown",
   "metadata": {},
   "source": [
    "##### method 1"
   ]
  },
  {
   "cell_type": "code",
   "execution_count": 81,
   "metadata": {},
   "outputs": [],
   "source": [
    "# define a function to generate frequency features\n",
    "# snapshot_date is the last day of time_window\n",
    "def frequency_feature_generation(df,event,time_window,snapshot_date):\n",
    "    \"\"\"\n",
    "    generate frequency features for one event type and one time window\n",
    "    \"\"\"\n",
    "    df_feature = df.filter(F.col('event')== event)\\\n",
    "            .filter((F.col('date')>=snapshot_date-datetime.timedelta(time_window - 1)) & (F.col('date')<=snapshot_date))\\\n",
    "            .groupBy('uid').agg(F.count(F.col('uid')).alias('freq_'+event+'_last_'+str(time_window)))\n",
    "    return df_feature"
   ]
  },
  {
   "cell_type": "code",
   "execution_count": 82,
   "metadata": {},
   "outputs": [],
   "source": [
    "# generate one feature\n",
    "# for example: frequency of search in last 3 days in feature window \n",
    "event = 'S'\n",
    "time_window = 3\n",
    "snapshot_date = feature_window_end_date\n",
    "df_freq_feature = frequency_feature_generation(df_feature_window,event,time_window,snapshot_date)"
   ]
  },
  {
   "cell_type": "code",
   "execution_count": 83,
   "metadata": {},
   "outputs": [
    {
     "name": "stdout",
     "output_type": "stream",
     "text": [
      "+---------+-------------+\n",
      "|      uid|freq_S_last_3|\n",
      "+---------+-------------+\n",
      "|167973428|            2|\n",
      "|167935507|           10|\n",
      "|167958940|            4|\n",
      "|168079950|           23|\n",
      "|168464445|            2|\n",
      "+---------+-------------+\n",
      "only showing top 5 rows\n",
      "\n"
     ]
    }
   ],
   "source": [
    "df_freq_feature.show(5)"
   ]
  },
  {
   "cell_type": "code",
   "execution_count": 84,
   "metadata": {},
   "outputs": [],
   "source": [
    "# generate frequency features for all event_list, time_window_list\n",
    "event_list = ['P','D','S']\n",
    "time_window_list = [1,3,7,14,30]\n",
    "df_freq_feature_list = []\n",
    "for event in event_list:\n",
    "    for time_window in time_window_list:\n",
    "        df_freq_feature_list.append(frequency_feature_generation(df_feature_window,event,time_window,snapshot_date))\n"
   ]
  },
  {
   "cell_type": "code",
   "execution_count": 85,
   "metadata": {},
   "outputs": [
    {
     "data": {
      "text/plain": [
       "[DataFrame[uid: string, freq_P_last_1: bigint],\n",
       " DataFrame[uid: string, freq_P_last_3: bigint],\n",
       " DataFrame[uid: string, freq_P_last_7: bigint],\n",
       " DataFrame[uid: string, freq_P_last_14: bigint],\n",
       " DataFrame[uid: string, freq_P_last_30: bigint],\n",
       " DataFrame[uid: string, freq_D_last_1: bigint],\n",
       " DataFrame[uid: string, freq_D_last_3: bigint],\n",
       " DataFrame[uid: string, freq_D_last_7: bigint],\n",
       " DataFrame[uid: string, freq_D_last_14: bigint],\n",
       " DataFrame[uid: string, freq_D_last_30: bigint],\n",
       " DataFrame[uid: string, freq_S_last_1: bigint],\n",
       " DataFrame[uid: string, freq_S_last_3: bigint],\n",
       " DataFrame[uid: string, freq_S_last_7: bigint],\n",
       " DataFrame[uid: string, freq_S_last_14: bigint],\n",
       " DataFrame[uid: string, freq_S_last_30: bigint]]"
      ]
     },
     "execution_count": 85,
     "metadata": {},
     "output_type": "execute_result"
    }
   ],
   "source": [
    "df_freq_feature_list"
   ]
  },
  {
   "cell_type": "markdown",
   "metadata": {},
   "source": [
    "##### method 2: too many dfs to join? do it another way\n",
    "To join too many dataframes is time consuming,\n",
    "we have to limit the times to join the dataframe\n",
    "#list of operations is an advanced operation"
   ]
  },
  {
   "cell_type": "code",
   "execution_count": 86,
   "metadata": {},
   "outputs": [],
   "source": [
    "# define a function to generate frequency features for a list of time windows\n",
    "# using when().otherwise(), and list comprehension trick!\n",
    "def frequency_feature_generation_time_windows(df,event,time_window_list,snapshot_date):\n",
    "    \"\"\"\n",
    "    generate frequency features for one event type and a list of time windows\n",
    "    \"\"\"\n",
    "    df_feature = df \\\n",
    "        .filter(F.col('event')==event) \\\n",
    "        .groupBy('uid') \\\n",
    "        .agg(*[F.sum(F.when((F.col('date')>=snapshot_date-datetime.timedelta(time_window-1)) & (F.col('date')<=snapshot_date),1).otherwise(0)).alias('freq_'+event+'_last_'+str(time_window)) \\\n",
    "                for time_window in time_window_list]\n",
    "            )# *[] opens list and make them comma separated\n",
    "    return df_feature\n",
    "\n"
   ]
  },
  {
   "cell_type": "code",
   "execution_count": 87,
   "metadata": {},
   "outputs": [
    {
     "name": "stdout",
     "output_type": "stream",
     "text": [
      "+---------+-------------+-------------+-------------+--------------+--------------+\n",
      "|      uid|freq_S_last_1|freq_S_last_3|freq_S_last_7|freq_S_last_14|freq_S_last_30|\n",
      "+---------+-------------+-------------+-------------+--------------+--------------+\n",
      "|167993779|            0|            0|            1|             6|            56|\n",
      "|167935507|            6|           10|           33|            91|           222|\n",
      "|167672887|            0|            0|            0|             0|             3|\n",
      "|167955727|            9|            9|            9|            33|            70|\n",
      "|168025511|            0|            0|            0|             0|             3|\n",
      "+---------+-------------+-------------+-------------+--------------+--------------+\n",
      "only showing top 5 rows\n",
      "\n"
     ]
    }
   ],
   "source": [
    "# generate one event type, all time windows \n",
    "event = 'S'\n",
    "time_window_list = [1,3,7,14,30]\n",
    "snapshot_date = feature_window_end_date\n",
    "df_freq_feature = frequency_feature_generation_time_windows(df_feature_window,event,time_window_list,snapshot_date)\n",
    "df_freq_feature.show(5)"
   ]
  },
  {
   "cell_type": "code",
   "execution_count": 88,
   "metadata": {},
   "outputs": [],
   "source": [
    "# generate frequency features for all event_list, time_window_list\n",
    "event_list = ['P','D','S']\n",
    "time_window_list = [1,3,7,14,30]\n",
    "df_freq_feature_list = []\n",
    "for event in event_list:\n",
    "    df_freq_feature_list.append(frequency_feature_generation_time_windows(df_feature_window,event,time_window_list,snapshot_date))\n"
   ]
  },
  {
   "cell_type": "code",
   "execution_count": 89,
   "metadata": {},
   "outputs": [
    {
     "data": {
      "text/plain": [
       "[DataFrame[uid: string, freq_P_last_1: bigint, freq_P_last_3: bigint, freq_P_last_7: bigint, freq_P_last_14: bigint, freq_P_last_30: bigint],\n",
       " DataFrame[uid: string, freq_D_last_1: bigint, freq_D_last_3: bigint, freq_D_last_7: bigint, freq_D_last_14: bigint, freq_D_last_30: bigint],\n",
       " DataFrame[uid: string, freq_S_last_1: bigint, freq_S_last_3: bigint, freq_S_last_7: bigint, freq_S_last_14: bigint, freq_S_last_30: bigint]]"
      ]
     },
     "execution_count": 89,
     "metadata": {},
     "output_type": "execute_result"
    }
   ],
   "source": [
    "df_freq_feature_list"
   ]
  },
  {
   "cell_type": "markdown",
   "metadata": {},
   "source": [
    "### Recency features"
   ]
  },
  {
   "cell_type": "code",
   "execution_count": 90,
   "metadata": {},
   "outputs": [],
   "source": [
    "# event_data in feature_window\n",
    "df_feature_window = df.filter((F.col('date')>=feature_window_start_date) & (F.col('date')<=feature_window_end_date))\n",
    "#df_feature_window.show()"
   ]
  },
  {
   "cell_type": "code",
   "execution_count": 91,
   "metadata": {},
   "outputs": [],
   "source": [
    "# define function to get days from end to start\n",
    "#def subtract_snapshot_date(last_event_date):\n",
    "#    return (snapshot_date.date() - last_event_date).days\n",
    "\n",
    "#udf_subtract_snapshot_date = F.udf(subtract_snapshot_date, IntegerType())\n",
    "\n",
    "# define a function to generate recency features\n",
    "# snapshot_date is the last day of time_window\n",
    "\n",
    "#def recency_feature_generation(df,event,snapshot_date):\n",
    "#    \"\"\"\n",
    "#    generate recency features for one event type\n",
    "#    get days between last event time from snapshot time\n",
    "#    \"\"\"\n",
    "#    df_recency_feature = df.filter(F.col('event')== event)\\\n",
    "#            .groupBy('uid').agg(F.max('date').alias('max_event_date'))\\\n",
    "#                .withColumn('recency',F.datediff(snapshot_date,F.col('max_event_date'))\n",
    "                            \n",
    "#    return df_recency_feature"
   ]
  },
  {
   "cell_type": "markdown",
   "metadata": {},
   "source": [
    "#### Define a function to generate recency features"
   ]
  },
  {
   "cell_type": "code",
   "execution_count": 92,
   "metadata": {},
   "outputs": [],
   "source": [
    "# define a function to generate recency features\n",
    "# snapshot_date is the last day of time_window\n",
    "def recency_feature_generation(df,event,snapshot_date):\n",
    "    \"\"\"\n",
    "    generate recency features for one event type\n",
    "    get days between last event time from snapshot time\n",
    "    \"\"\"\n",
    "    df_daysbefore = df.filter(F.col('event')== event)\\\n",
    "                    .withColumn('days_before_snapshot',F.datediff(F.lit(snapshot_date),'date'))\n",
    "    \n",
    "    df_recency_feature = df_daysbefore.groupBy('uid').\\\n",
    "                        agg(F.min('days_before_snapshot').alias('recency_' + event))\n",
    "                            \n",
    "    return df_recency_feature\n"
   ]
  },
  {
   "cell_type": "markdown",
   "metadata": {},
   "source": [
    "#### Search\n",
    "The number of users who searched at least one time is 33310"
   ]
  },
  {
   "cell_type": "code",
   "execution_count": 43,
   "metadata": {},
   "outputs": [],
   "source": [
    "event = 'S'\n",
    "snapshot_date = feature_window_end_date\n",
    "df_recency_S_tmp = recency_feature_generation(df_feature_window,event,snapshot_date)"
   ]
  },
  {
   "cell_type": "code",
   "execution_count": 573,
   "metadata": {},
   "outputs": [
    {
     "data": {
      "text/plain": [
       "33310"
      ]
     },
     "execution_count": 573,
     "metadata": {},
     "output_type": "execute_result"
    }
   ],
   "source": [
    "df_recency_S_tmp.select('uid').distinct().count()"
   ]
  },
  {
   "cell_type": "markdown",
   "metadata": {},
   "source": [
    "#### Play\n",
    "The number of users who play at least one time is 58061"
   ]
  },
  {
   "cell_type": "code",
   "execution_count": 574,
   "metadata": {},
   "outputs": [],
   "source": [
    "event = 'P'\n",
    "snapshot_date = feature_window_end_date\n",
    "df_recency_P_tmp = recency_feature_generation(df_feature_window,event,snapshot_date)"
   ]
  },
  {
   "cell_type": "code",
   "execution_count": 575,
   "metadata": {},
   "outputs": [
    {
     "data": {
      "text/plain": [
       "58061"
      ]
     },
     "execution_count": 575,
     "metadata": {},
     "output_type": "execute_result"
    }
   ],
   "source": [
    "df_recency_P_tmp.select('uid').distinct().count()"
   ]
  },
  {
   "cell_type": "markdown",
   "metadata": {},
   "source": [
    "#### Download\n",
    "The number of users who download at least one time is 22876"
   ]
  },
  {
   "cell_type": "code",
   "execution_count": 579,
   "metadata": {},
   "outputs": [],
   "source": [
    "event = 'D'\n",
    "snapshot_date = feature_window_end_date\n",
    "df_recency_D_tmp = recency_feature_generation(df_feature_window,event,snapshot_date)"
   ]
  },
  {
   "cell_type": "code",
   "execution_count": 580,
   "metadata": {},
   "outputs": [
    {
     "data": {
      "text/plain": [
       "22876"
      ]
     },
     "execution_count": 580,
     "metadata": {},
     "output_type": "execute_result"
    }
   ],
   "source": [
    "df_recency_D_tmp.select('uid').distinct().count()"
   ]
  },
  {
   "cell_type": "markdown",
   "metadata": {},
   "source": [
    "Either play, download or search behavior of one user in feature window will be included in model"
   ]
  },
  {
   "cell_type": "code",
   "execution_count": 93,
   "metadata": {},
   "outputs": [],
   "source": [
    "# generate recency features for all event\n",
    "event_list = ['P','D','S']\n",
    "df_recency_feature_list = []\n",
    "for event in event_list:\n",
    "    df_recency_feature_list.append(recency_feature_generation(df_feature_window,event,snapshot_date))\n",
    "\n",
    "\n"
   ]
  },
  {
   "cell_type": "code",
   "execution_count": 94,
   "metadata": {},
   "outputs": [
    {
     "data": {
      "text/plain": [
       "[DataFrame[uid: string, recency_P: int],\n",
       " DataFrame[uid: string, recency_D: int],\n",
       " DataFrame[uid: string, recency_S: int]]"
      ]
     },
     "execution_count": 94,
     "metadata": {},
     "output_type": "execute_result"
    }
   ],
   "source": [
    "df_recency_feature_list"
   ]
  },
  {
   "cell_type": "markdown",
   "metadata": {},
   "source": [
    "### Acceleration features\n",
    "- Ratio of event frequency of different time window is used to measure acceleration.\n",
    "- It could capture possible trend in user behavior, for example, if freq_play_last_1/avg_freq_play_last_7 > 1, then the user played more frequently.\n",
    "- To measuring relative long term acceleration, freq_play_last_1/avg_freq_play_last_30"
   ]
  },
  {
   "cell_type": "code",
   "execution_count": 107,
   "metadata": {},
   "outputs": [],
   "source": [
    "def join_feature_data(df_master,df_feature_list):\n",
    "    for df_feature in df_feature_list:\n",
    "        df_master = df_master.join(df_feature,on='uid',how='left')\n",
    "        #df_master.persist() # uncomment if number of joins is too many\n",
    "    return df_master"
   ]
  },
  {
   "cell_type": "code",
   "execution_count": 108,
   "metadata": {},
   "outputs": [],
   "source": [
    "# frequency datafram\n",
    "df_freq = join_feature_data(df_label,df_freq_feature_list)"
   ]
  },
  {
   "cell_type": "code",
   "execution_count": 109,
   "metadata": {},
   "outputs": [],
   "source": [
    "# df_freq.count()\n",
    "# 58184\n",
    "df_acc_feature_tmp1 = df_freq.withColumn('acc_P_1_7', F.col('freq_P_last_1')*7/F.col('freq_P_last_7'))"
   ]
  },
  {
   "cell_type": "code",
   "execution_count": 110,
   "metadata": {},
   "outputs": [],
   "source": [
    "df_acc = df_freq\\\n",
    ".withColumn('acc_P_1_7', (F.col('freq_P_last_1')/1)/(F.col('freq_P_last_7')/7))\\\n",
    ".withColumn('acc_P_7_14', (F.col('freq_P_last_7')/7)/(F.col('freq_P_last_14')/14))\\\n",
    ".withColumn('acc_P_14_30', (F.col('freq_P_last_14')/14)/(F.col('freq_P_last_30')/30))\\\n",
    ".withColumn('acc_P_D_1_7', (F.col('freq_P_last_1')/1)/ (F.col('freq_D_last_7')/7))\\\n",
    ".withColumn('acc_D_1_7', (F.col('freq_D_last_1')/1)/(F.col('freq_D_last_7')/7))\\\n",
    ".withColumn('acc_D_7_14', (F.col('freq_D_last_7')/7)/(F.col('freq_D_last_14')/14))\\\n",
    ".withColumn('acc_D_14_30', (F.col('freq_D_last_14')/14)/(F.col('freq_D_last_30')/30))\\\n",
    ".withColumn('acc_S_1_7', (F.col('freq_S_last_1')/1)/(F.col('freq_S_last_7')/7))\\\n",
    ".withColumn('acc_S_7_14', (F.col('freq_S_last_7')/7)/(F.col('freq_S_last_14')/14))\\\n",
    ".withColumn('acc_S_14_30', (F.col('freq_S_last_14')/14)/(F.col('freq_S_last_30')/30))\n",
    "\n",
    "            \n",
    "\n",
    "            "
   ]
  },
  {
   "cell_type": "code",
   "execution_count": 112,
   "metadata": {},
   "outputs": [],
   "source": [
    "drop_list = ['label','freq_P_last_1',\n",
    " 'freq_P_last_3',\n",
    " 'freq_P_last_7',\n",
    " 'freq_P_last_14',\n",
    " 'freq_P_last_30',\n",
    " 'freq_D_last_1',\n",
    " 'freq_D_last_3',\n",
    " 'freq_D_last_7',\n",
    " 'freq_D_last_14',\n",
    " 'freq_D_last_30',\n",
    " 'freq_S_last_1',\n",
    " 'freq_S_last_3',\n",
    " 'freq_S_last_7',\n",
    " 'freq_S_last_14',\n",
    " 'freq_S_last_30'] \n",
    "\n",
    "for col in drop_list:\n",
    "    df_acc = df_acc.drop(col)"
   ]
  },
  {
   "cell_type": "code",
   "execution_count": 115,
   "metadata": {},
   "outputs": [
    {
     "data": {
      "text/plain": [
       "['uid',\n",
       " 'acc_P_1_7',\n",
       " 'acc_P_7_14',\n",
       " 'acc_P_14_30',\n",
       " 'acc_P_D_1_7',\n",
       " 'acc_D_1_7',\n",
       " 'acc_D_7_14',\n",
       " 'acc_D_14_30',\n",
       " 'acc_S_1_7',\n",
       " 'acc_S_7_14',\n",
       " 'acc_S_14_30']"
      ]
     },
     "execution_count": 115,
     "metadata": {},
     "output_type": "execute_result"
    }
   ],
   "source": [
    "df_acc.columns"
   ]
  },
  {
   "cell_type": "markdown",
   "metadata": {},
   "source": [
    "### Profile features"
   ]
  },
  {
   "cell_type": "markdown",
   "metadata": {},
   "source": [
    "### Play behavior"
   ]
  },
  {
   "cell_type": "code",
   "execution_count": 95,
   "metadata": {},
   "outputs": [
    {
     "name": "stdout",
     "output_type": "stream",
     "text": [
      "+---------+------+--------+----------+--------------------+-----------+\n",
      "|      uid|device| song_id|      date|           play_time|song_length|\n",
      "+---------+------+--------+----------+--------------------+-----------+\n",
      "|168551042|    ar|  505355|2017-03-30|                 106|        277|\n",
      "|168551430|    ar| 1179220|2017-03-30|                 231|        231|\n",
      "|168550728|    ar|  285233|2017-03-30|                 282|        282|\n",
      "|168551408|    ar|15750838|2017-03-30|7>(123.138.230.80)TM|          0|\n",
      "|168551179|    ar|23485496|2017-03-30|                  26|        212|\n",
      "+---------+------+--------+----------+--------------------+-----------+\n",
      "only showing top 5 rows\n",
      "\n"
     ]
    }
   ],
   "source": [
    "df_play = spark.read.csv('/Users/xuejiwang/Documents/dev/MusicBox/data/play/play_ds.csv',header=True)\n",
    "df_play.show(5)"
   ]
  },
  {
   "cell_type": "code",
   "execution_count": 96,
   "metadata": {},
   "outputs": [],
   "source": [
    "df_play_feature_window = df_play.filter((F.col('date')>=feature_window_start_date) & (F.col('date')<=feature_window_end_date))\n",
    "df_profile_tmp = df_play_feature_window.select('uid','device').distinct()"
   ]
  },
  {
   "cell_type": "code",
   "execution_count": 97,
   "metadata": {},
   "outputs": [
    {
     "name": "stdout",
     "output_type": "stream",
     "text": [
      "+------+-----+\n",
      "|device|count|\n",
      "+------+-----+\n",
      "|    mc|    1|\n",
      "|    ar|50852|\n",
      "|    wp|    1|\n",
      "|    ip| 7222|\n",
      "+------+-----+\n",
      "\n"
     ]
    }
   ],
   "source": [
    "df_profile_tmp.groupBy('device').count().show()"
   ]
  },
  {
   "cell_type": "code",
   "execution_count": 95,
   "metadata": {},
   "outputs": [
    {
     "data": {
      "text/plain": [
       "58076"
      ]
     },
     "execution_count": 95,
     "metadata": {},
     "output_type": "execute_result"
    }
   ],
   "source": [
    "# check if one user has two devices\n",
    "df_profile_tmp.count()"
   ]
  },
  {
   "cell_type": "code",
   "execution_count": 96,
   "metadata": {},
   "outputs": [
    {
     "data": {
      "text/plain": [
       "58076"
      ]
     },
     "execution_count": 96,
     "metadata": {},
     "output_type": "execute_result"
    }
   ],
   "source": [
    "df_profile_tmp.distinct().count()"
   ]
  },
  {
   "cell_type": "code",
   "execution_count": 56,
   "metadata": {},
   "outputs": [
    {
     "name": "stdout",
     "output_type": "stream",
     "text": [
      "+-----------+-----+\n",
      "|device_type|count|\n",
      "+-----------+-----+\n",
      "|          1| 7222|\n",
      "|          2|50854|\n",
      "+-----------+-----+\n",
      "\n"
     ]
    }
   ],
   "source": [
    "df_profile_tmp = df_profile_tmp.withColumn('device_type',F.when(F.col('device')=='ip',1).otherwise(2))\n",
    "df_profile_tmp.groupBy('device_type').count().show()"
   ]
  },
  {
   "cell_type": "code",
   "execution_count": 57,
   "metadata": {},
   "outputs": [
    {
     "name": "stdout",
     "output_type": "stream",
     "text": [
      "+-----------+-----+\n",
      "|device_type|count|\n",
      "+-----------+-----+\n",
      "|       null|  123|\n",
      "|          1| 7222|\n",
      "|          2|50854|\n",
      "+-----------+-----+\n",
      "\n"
     ]
    }
   ],
   "source": [
    "df_profile = df_label.select('uid').join(df_profile_tmp.select('uid','device_type'),on='uid',how='left')\n",
    "df_profile.groupBy('device_type').count().show()"
   ]
  },
  {
   "cell_type": "code",
   "execution_count": 458,
   "metadata": {},
   "outputs": [
    {
     "name": "stdout",
     "output_type": "stream",
     "text": [
      "+---------+-----------+\n",
      "|      uid|device_type|\n",
      "+---------+-----------+\n",
      "|148413435|          2|\n",
      "|154708890|          2|\n",
      "|166351678|          2|\n",
      "|166601616|          2|\n",
      "|167570656|          2|\n",
      "|167571423|          2|\n",
      "|167579073|          1|\n",
      "|167587629|          2|\n",
      "|167589113|          2|\n",
      "|167601016|          2|\n",
      "|167606196|          2|\n",
      "|167631789|          2|\n",
      "|167640783|          2|\n",
      "|167666341|          2|\n",
      "|167669429|          2|\n",
      "|167672887|          2|\n",
      "|167673619|          2|\n",
      "|167684710|          2|\n",
      "|167688259|          2|\n",
      "|167690867|          1|\n",
      "+---------+-----------+\n",
      "only showing top 20 rows\n",
      "\n"
     ]
    }
   ],
   "source": [
    "df_profile.show()"
   ]
  },
  {
   "cell_type": "markdown",
   "metadata": {},
   "source": [
    "#### Total play time features"
   ]
  },
  {
   "cell_type": "code",
   "execution_count": null,
   "metadata": {},
   "outputs": [],
   "source": [
    "# Can you generate total song play time features (using play_ds data) for different time window\n",
    "# using play data (need to clean play time first, play time may be negative in data)\n",
    "df_play_feature_window = df_play.filter((F.col('date')>=feature_window_start_date) & (F.col('date')<=feature_window_end_date))\n",
    "df_play_feature_window.filter(F.col('play_time') < 0).show()"
   ]
  },
  {
   "cell_type": "code",
   "execution_count": 65,
   "metadata": {},
   "outputs": [],
   "source": [
    "df_play_feature_window_filtered = df_play_feature_window.filter(F.col('play_time') >= 0)"
   ]
  },
  {
   "cell_type": "code",
   "execution_count": 98,
   "metadata": {},
   "outputs": [],
   "source": [
    "def tot_playtime_feature_generation(df,time_window_list,snapshot_date):\n",
    "    \"\"\"\n",
    "    generate total playtime for a list of time windows\n",
    "    \"\"\"\n",
    "    df_feature = df \\\n",
    "        .groupBy('uid') \\\n",
    "        .agg(*[F.sum(F.when((F.col('date')>=snapshot_date-datetime.timedelta(time_window-1)) \\\n",
    "                            & (F.col('date')<=snapshot_date),1).otherwise(0))\\\n",
    "               .alias('tot_playtime_last_' + str(time_window)) \\\n",
    "                for time_window in time_window_list]\n",
    "            )# *[] opens list and make them comma separated\n",
    "    return df_feature\n"
   ]
  },
  {
   "cell_type": "code",
   "execution_count": 105,
   "metadata": {},
   "outputs": [
    {
     "name": "stdout",
     "output_type": "stream",
     "text": [
      "+---------+-------------------+-------------------+-------------------+--------------------+--------------------+\n",
      "|      uid|tot_playtime_last_1|tot_playtime_last_3|tot_playtime_last_7|tot_playtime_last_14|tot_playtime_last_30|\n",
      "+---------+-------------------+-------------------+-------------------+--------------------+--------------------+\n",
      "|168554270|                  0|                  0|                  0|                   0|                  25|\n",
      "|168576985|                  0|                  0|                  0|                   0|                  14|\n",
      "|168578813|                  0|                  0|                  0|                   0|                  13|\n",
      "|168579447|                  0|                  0|                  0|                   0|                  45|\n",
      "|168587753|                  0|                  1|                  4|                  30|                 125|\n",
      "|168622990|                  0|                  3|                  4|                   5|                  44|\n",
      "|168623548|                  0|                  0|                  0|                   0|                   1|\n",
      "|  4987532|                 30|                175|                182|                 260|                 446|\n",
      "|168624629|                  0|                  0|                  0|                   0|                   2|\n",
      "|168656182|                  0|                  0|                  0|                   0|                 101|\n",
      "|168669745|                  0|                  0|                  0|                   0|                  12|\n",
      "|168662049|                  0|                 98|                157|                 262|                 544|\n",
      "|168672354|                  0|                  0|                  0|                   0|                   4|\n",
      "|168636056|                  0|                  0|                  0|                   0|                  24|\n",
      "|168674636|                  0|                  0|                  0|                   0|                   2|\n",
      "|168668762|                  0|                  0|                 15|                  33|                  82|\n",
      "|168675684|                  0|                  0|                  0|                   0|                  15|\n",
      "|168678219|                  0|                  0|                  0|                   0|                   1|\n",
      "|168687155|                  0|                  0|                  0|                   0|                  14|\n",
      "|168687634|                  0|                  0|                  0|                   0|                   1|\n",
      "+---------+-------------------+-------------------+-------------------+--------------------+--------------------+\n",
      "only showing top 20 rows\n",
      "\n"
     ]
    }
   ],
   "source": [
    "time_window_list = [1,3,7,14,30]\n",
    "snapshot_date = feature_window_end_date\n",
    "df_tot_playtime = tot_playtime_feature_generation(df_play_feature_window_filtered,time_window_list, snapshot_date)\n",
    "df_tot_playtime.show()\n"
   ]
  },
  {
   "cell_type": "markdown",
   "metadata": {},
   "source": [
    "### Fancier frequency features"
   ]
  },
  {
   "cell_type": "code",
   "execution_count": null,
   "metadata": {},
   "outputs": [],
   "source": [
    "# Can you generate counts of songs play 80% of their song length (using play_ds data) for different time window\n",
    "# using play data (need to clean play time and song length first, play time may be negative in data, song length may be zeros)"
   ]
  },
  {
   "cell_type": "code",
   "execution_count": 133,
   "metadata": {},
   "outputs": [],
   "source": [
    "def df_80per_song_count_generation(df,time_window_list,snapshot_date):\n",
    "    \"\"\"\n",
    "    generate count of songs that finished 80 percent\n",
    "    \"\"\"\n",
    "    df_feature = df \\\n",
    "        .groupBy('uid') \\\n",
    "        .agg(*[F.sum(F.when((F.col('date')>=snapshot_date-datetime.timedelta(time_window-1)) \\\n",
    "                            & (F.col('date')<=snapshot_date)\\\n",
    "                            &(F.col('play_time')/F.col('song_length') >= 0.8),1).otherwise(0))\\\n",
    "               .alias('count_80per_song_last'+str(time_window)) \\\n",
    "                for time_window in time_window_list]\n",
    "            )# *[] opens list and make them comma separated\n",
    "    return df_feature"
   ]
  },
  {
   "cell_type": "code",
   "execution_count": 134,
   "metadata": {},
   "outputs": [],
   "source": [
    "df_play_feature_window_filtered = df_play_feature_window_filtered.filter(F.col('song_length') > 0)"
   ]
  },
  {
   "cell_type": "code",
   "execution_count": 135,
   "metadata": {},
   "outputs": [
    {
     "name": "stdout",
     "output_type": "stream",
     "text": [
      "+---------+----------------------+----------------------+----------------------+-----------------------+-----------------------+\n",
      "|      uid|count_80per_song_last1|count_80per_song_last3|count_80per_song_last7|count_80per_song_last14|count_80per_song_last30|\n",
      "+---------+----------------------+----------------------+----------------------+-----------------------+-----------------------+\n",
      "|168554270|                     0|                     0|                     0|                      0|                     15|\n",
      "|168576985|                     0|                     0|                     0|                      0|                      9|\n",
      "|168578813|                     0|                     0|                     0|                      0|                      1|\n",
      "|168579447|                     0|                     0|                     0|                      0|                      0|\n",
      "|168587753|                     0|                     1|                     1|                      6|                     43|\n",
      "|168622990|                     0|                     0|                     1|                      2|                     19|\n",
      "|168623548|                     0|                     0|                     0|                      0|                      0|\n",
      "|  4987532|                    26|                   102|                   103|                    141|                    201|\n",
      "|168624629|                     0|                     0|                     0|                      0|                      1|\n",
      "|168656182|                     0|                     0|                     0|                      0|                     32|\n",
      "|168669745|                     0|                     0|                     0|                      0|                      7|\n",
      "|168662049|                     0|                    72|                   118|                    202|                    370|\n",
      "|168672354|                     0|                     0|                     0|                      0|                      1|\n",
      "|168636056|                     0|                     0|                     0|                      0|                      3|\n",
      "|168668762|                     0|                     0|                    14|                     31|                     74|\n",
      "|168674636|                     0|                     0|                     0|                      0|                      0|\n",
      "|168675684|                     0|                     0|                     0|                      0|                      1|\n",
      "|168678219|                     0|                     0|                     0|                      0|                      1|\n",
      "|168687155|                     0|                     0|                     0|                      0|                     10|\n",
      "|168687634|                     0|                     0|                     0|                      0|                      0|\n",
      "+---------+----------------------+----------------------+----------------------+-----------------------+-----------------------+\n",
      "only showing top 20 rows\n",
      "\n"
     ]
    }
   ],
   "source": [
    "time_window_list = [1, 3, 7, 14, 30]\n",
    "df_80per_song = df_80per_song_count_generation(df_play_feature_window_filtered,time_window_list,snapshot_date)\n",
    "df_80per_song.show()"
   ]
  },
  {
   "cell_type": "code",
   "execution_count": 140,
   "metadata": {},
   "outputs": [
    {
     "data": {
      "text/plain": [
       "[DataFrame[uid: string, count_80per_song_last1: bigint, count_80per_song_last3: bigint, count_80per_song_last7: bigint, count_80per_song_last14: bigint, count_80per_song_last30: bigint]]"
      ]
     },
     "execution_count": 140,
     "metadata": {},
     "output_type": "execute_result"
    }
   ],
   "source": [
    "[df_80per_song]"
   ]
  },
  {
   "cell_type": "markdown",
   "metadata": {},
   "source": [
    "###  Download data profile"
   ]
  },
  {
   "cell_type": "code",
   "execution_count": 187,
   "metadata": {},
   "outputs": [
    {
     "name": "stdout",
     "output_type": "stream",
     "text": [
      "+---------+------+-------+----------+\n",
      "|      uid|device|song_id|      date|\n",
      "+---------+------+-------+----------+\n",
      "|168019810|    ar| 442554|2017-03-30|\n",
      "|168019810|    ar|6334611|2017-03-30|\n",
      "|168019810|    ar|9867382|2017-03-30|\n",
      "|168019810|    ar|6660691|2017-03-30|\n",
      "|168019810|    ar| 157606|2017-03-30|\n",
      "+---------+------+-------+----------+\n",
      "only showing top 5 rows\n",
      "\n"
     ]
    }
   ],
   "source": [
    "df_down = spark.read.csv('/Users/xuejiwang/Documents/dev/MusicBox/data/down/down_ds.csv',header=True)\n",
    "df_down.show(5)"
   ]
  },
  {
   "cell_type": "markdown",
   "metadata": {},
   "source": [
    "### Search profile"
   ]
  },
  {
   "cell_type": "code",
   "execution_count": 188,
   "metadata": {},
   "outputs": [
    {
     "name": "stdout",
     "output_type": "stream",
     "text": [
      "+---------+------+----------+\n",
      "|      uid|device|      date|\n",
      "+---------+------+----------+\n",
      "|167776092|    ar|2017-03-30|\n",
      "|168317948|    ip|2017-03-30|\n",
      "|168019810|    ar|2017-03-30|\n",
      "|167583852|    ip|2017-03-30|\n",
      "|167972714|    ar|2017-03-30|\n",
      "+---------+------+----------+\n",
      "only showing top 5 rows\n",
      "\n"
     ]
    }
   ],
   "source": [
    "df_search = spark.read.csv('/Users/xuejiwang/Documents/dev/MusicBox/data/search/search_ds.csv',header=True)\n",
    "df_search.show(5)"
   ]
  },
  {
   "cell_type": "markdown",
   "metadata": {},
   "source": [
    "# Form training data"
   ]
  },
  {
   "cell_type": "code",
   "execution_count": 145,
   "metadata": {},
   "outputs": [],
   "source": [
    "def join_feature_data(df_master,df_feature_list):\n",
    "    for df_feature in df_feature_list:\n",
    "        df_master = df_master.join(df_feature,on='uid',how='left')\n",
    "        #df_master.persist() # uncomment if number of joins is too many\n",
    "    return df_master"
   ]
  },
  {
   "cell_type": "markdown",
   "metadata": {},
   "source": [
    "### Frequency dataframe"
   ]
  },
  {
   "cell_type": "code",
   "execution_count": 187,
   "metadata": {},
   "outputs": [],
   "source": [
    "# join all behavior features\n",
    "df_freq = join_feature_data(df_label,df_freq_feature_list)"
   ]
  },
  {
   "cell_type": "code",
   "execution_count": null,
   "metadata": {},
   "outputs": [],
   "source": [
    "from pyspark.sql.functions import isnan, isnull, when, count, col\n",
    "df_freq.select([F.count(F.when(isnan(c), c)).alias(c) for c in df_freq.columns]).show()"
   ]
  },
  {
   "cell_type": "code",
   "execution_count": 190,
   "metadata": {},
   "outputs": [
    {
     "name": "stdout",
     "output_type": "stream",
     "text": [
      "+---+-----+-------------+-------------+-------------+--------------+--------------+-------------+-------------+-------------+--------------+--------------+-------------+-------------+-------------+--------------+--------------+\n",
      "|uid|label|freq_P_last_1|freq_P_last_3|freq_P_last_7|freq_P_last_14|freq_P_last_30|freq_D_last_1|freq_D_last_3|freq_D_last_7|freq_D_last_14|freq_D_last_30|freq_S_last_1|freq_S_last_3|freq_S_last_7|freq_S_last_14|freq_S_last_30|\n",
      "+---+-----+-------------+-------------+-------------+--------------+--------------+-------------+-------------+-------------+--------------+--------------+-------------+-------------+-------------+--------------+--------------+\n",
      "|  0|    0|          123|          123|          123|           123|           123|        35308|        35308|        35308|         35308|         35308|        24874|        24874|        24874|         24874|         24874|\n",
      "+---+-----+-------------+-------------+-------------+--------------+--------------+-------------+-------------+-------------+--------------+--------------+-------------+-------------+-------------+--------------+--------------+\n",
      "\n"
     ]
    }
   ],
   "source": [
    "df_freq.select([F.count(F.when(isnull(c), c)).alias(c) for c in df_freq.columns]).show()"
   ]
  },
  {
   "cell_type": "code",
   "execution_count": 191,
   "metadata": {},
   "outputs": [],
   "source": [
    "# if Frequency is null, then we could take the frequency as 0. There is no event happen of the user in the last n days \n",
    "df_freq = df_freq.fillna(0)"
   ]
  },
  {
   "cell_type": "markdown",
   "metadata": {},
   "source": [
    "### Recency dataframe"
   ]
  },
  {
   "cell_type": "code",
   "execution_count": null,
   "metadata": {},
   "outputs": [],
   "source": [
    "df_recency = join_feature_data(df_label,df_recency_feature_list)"
   ]
  },
  {
   "cell_type": "code",
   "execution_count": 192,
   "metadata": {},
   "outputs": [
    {
     "name": "stdout",
     "output_type": "stream",
     "text": [
      "+---+-----+---------+---------+---------+\n",
      "|uid|label|recency_P|recency_D|recency_S|\n",
      "+---+-----+---------+---------+---------+\n",
      "|  0|    0|      123|    35308|    24874|\n",
      "+---+-----+---------+---------+---------+\n",
      "\n"
     ]
    }
   ],
   "source": [
    "df_recency.select([F.count(F.when(isnull(c), c)).alias(c) for c in df_recency.columns]).show()"
   ]
  },
  {
   "cell_type": "markdown",
   "metadata": {},
   "source": [
    "- null value of recency_P is 123. The number of users didn't play any song in feature window is 123\n",
    "- null value of recency_S is 24874. The number of users didn't search any song in feature window.\n",
    "- null value of recency_D is 35308.The number of users didn't download any songs in feature window."
   ]
  },
  {
   "cell_type": "markdown",
   "metadata": {},
   "source": [
    "#### Join recency feature to df_freq\n",
    "##### method 1: left join df_recency to df_freq, if recency is null, fill it with a number larger than 30, try 35."
   ]
  },
  {
   "cell_type": "code",
   "execution_count": null,
   "metadata": {},
   "outputs": [],
   "source": [
    "df_f_r = join_feature_data(df_freq, df_recency_feature_list)"
   ]
  },
  {
   "cell_type": "code",
   "execution_count": 193,
   "metadata": {},
   "outputs": [
    {
     "name": "stdout",
     "output_type": "stream",
     "text": [
      "+---+-----+-------------+-------------+-------------+--------------+--------------+-------------+-------------+-------------+--------------+--------------+-------------+-------------+-------------+--------------+--------------+---------+---------+---------+\n",
      "|uid|label|freq_P_last_1|freq_P_last_3|freq_P_last_7|freq_P_last_14|freq_P_last_30|freq_D_last_1|freq_D_last_3|freq_D_last_7|freq_D_last_14|freq_D_last_30|freq_S_last_1|freq_S_last_3|freq_S_last_7|freq_S_last_14|freq_S_last_30|recency_P|recency_D|recency_S|\n",
      "+---+-----+-------------+-------------+-------------+--------------+--------------+-------------+-------------+-------------+--------------+--------------+-------------+-------------+-------------+--------------+--------------+---------+---------+---------+\n",
      "|  0|    0|            0|            0|            0|             0|             0|            0|            0|            0|             0|             0|            0|            0|            0|             0|             0|      123|    35308|    24874|\n",
      "+---+-----+-------------+-------------+-------------+--------------+--------------+-------------+-------------+-------------+--------------+--------------+-------------+-------------+-------------+--------------+--------------+---------+---------+---------+\n",
      "\n"
     ]
    }
   ],
   "source": [
    "df_f_r.select([F.count(F.when(isnull(c), c)).alias(c) for c in df_f_r.columns]).show()"
   ]
  },
  {
   "cell_type": "code",
   "execution_count": 194,
   "metadata": {},
   "outputs": [],
   "source": [
    "df_f_r = df_f_r.fillna(35)"
   ]
  },
  {
   "cell_type": "markdown",
   "metadata": {},
   "source": [
    "#### Join total playtime to frequency and recency"
   ]
  },
  {
   "cell_type": "code",
   "execution_count": 154,
   "metadata": {},
   "outputs": [],
   "source": [
    "df_f_r_totplay = join_feature_data(df_f_r, [df_tot_playtime])"
   ]
  },
  {
   "cell_type": "code",
   "execution_count": 196,
   "metadata": {},
   "outputs": [
    {
     "name": "stdout",
     "output_type": "stream",
     "text": [
      "+---+-----+-------------+-------------+-------------+--------------+--------------+-------------+-------------+-------------+--------------+--------------+-------------+-------------+-------------+--------------+--------------+---------+---------+---------+-------------------+-------------------+-------------------+--------------------+--------------------+\n",
      "|uid|label|freq_P_last_1|freq_P_last_3|freq_P_last_7|freq_P_last_14|freq_P_last_30|freq_D_last_1|freq_D_last_3|freq_D_last_7|freq_D_last_14|freq_D_last_30|freq_S_last_1|freq_S_last_3|freq_S_last_7|freq_S_last_14|freq_S_last_30|recency_P|recency_D|recency_S|tot_playtime_last_1|tot_playtime_last_3|tot_playtime_last_7|tot_playtime_last_14|tot_playtime_last_30|\n",
      "+---+-----+-------------+-------------+-------------+--------------+--------------+-------------+-------------+-------------+--------------+--------------+-------------+-------------+-------------+--------------+--------------+---------+---------+---------+-------------------+-------------------+-------------------+--------------------+--------------------+\n",
      "|  0|    0|            0|            0|            0|             0|             0|            0|            0|            0|             0|             0|            0|            0|            0|             0|             0|      123|    35308|    24874|                259|                259|                259|                 259|                 259|\n",
      "+---+-----+-------------+-------------+-------------+--------------+--------------+-------------+-------------+-------------+--------------+--------------+-------------+-------------+-------------+--------------+--------------+---------+---------+---------+-------------------+-------------------+-------------------+--------------------+--------------------+\n",
      "\n"
     ]
    }
   ],
   "source": [
    "df_f_r_totplay.select([F.count(F.when(isnull(c), c)).alias(c) for c in df_f_r_totplay.columns]).show()"
   ]
  },
  {
   "cell_type": "markdown",
   "metadata": {},
   "source": [
    "#### Join 80 percent finised songs number"
   ]
  },
  {
   "cell_type": "code",
   "execution_count": null,
   "metadata": {},
   "outputs": [],
   "source": [
    "df_f_r_totplay_80per = join_feature_data(df_f_r_totplay.fillna(0), [df_80per_song])"
   ]
  },
  {
   "cell_type": "code",
   "execution_count": 198,
   "metadata": {},
   "outputs": [
    {
     "name": "stdout",
     "output_type": "stream",
     "text": [
      "+---+-----+-------------+-------------+-------------+--------------+--------------+-------------+-------------+-------------+--------------+--------------+-------------+-------------+-------------+--------------+--------------+---------+---------+---------+-------------------+-------------------+-------------------+--------------------+--------------------+----------------------+----------------------+----------------------+-----------------------+-----------------------+\n",
      "|uid|label|freq_P_last_1|freq_P_last_3|freq_P_last_7|freq_P_last_14|freq_P_last_30|freq_D_last_1|freq_D_last_3|freq_D_last_7|freq_D_last_14|freq_D_last_30|freq_S_last_1|freq_S_last_3|freq_S_last_7|freq_S_last_14|freq_S_last_30|recency_P|recency_D|recency_S|tot_playtime_last_1|tot_playtime_last_3|tot_playtime_last_7|tot_playtime_last_14|tot_playtime_last_30|count_80per_song_last1|count_80per_song_last3|count_80per_song_last7|count_80per_song_last14|count_80per_song_last30|\n",
      "+---+-----+-------------+-------------+-------------+--------------+--------------+-------------+-------------+-------------+--------------+--------------+-------------+-------------+-------------+--------------+--------------+---------+---------+---------+-------------------+-------------------+-------------------+--------------------+--------------------+----------------------+----------------------+----------------------+-----------------------+-----------------------+\n",
      "|  0|    0|            0|            0|            0|             0|             0|            0|            0|            0|             0|             0|            0|            0|            0|             0|             0|        0|        0|        0|                  0|                  0|                  0|                   0|                   0|                  2193|                  2193|                  2193|                   2193|                   2193|\n",
      "+---+-----+-------------+-------------+-------------+--------------+--------------+-------------+-------------+-------------+--------------+--------------+-------------+-------------+-------------+--------------+--------------+---------+---------+---------+-------------------+-------------------+-------------------+--------------------+--------------------+----------------------+----------------------+----------------------+-----------------------+-----------------------+\n",
      "\n"
     ]
    }
   ],
   "source": [
    "df_f_r_totplay_80per.select([F.count(F.when(isnull(c), c)).alias(c) for c in df_f_r_totplay_80per .columns]).show()"
   ]
  },
  {
   "cell_type": "markdown",
   "metadata": {},
   "source": [
    "#### Join Profile Feature"
   ]
  },
  {
   "cell_type": "code",
   "execution_count": 208,
   "metadata": {},
   "outputs": [],
   "source": [
    "df_final = join_feature_data(df_f_r_totplay_80per.fillna(0),[df_profile])"
   ]
  },
  {
   "cell_type": "code",
   "execution_count": 210,
   "metadata": {},
   "outputs": [],
   "source": [
    "df_final.toPandas().to_csv('/Users/xuejiwang/Documents/dev/MusicBox/data/df_final.csv',index=False)"
   ]
  },
  {
   "cell_type": "code",
   "execution_count": null,
   "metadata": {},
   "outputs": [],
   "source": []
  }
 ],
 "metadata": {
  "kernelspec": {
   "display_name": "Python 3",
   "language": "python",
   "name": "python3"
  },
  "language_info": {
   "codemirror_mode": {
    "name": "ipython",
    "version": 3
   },
   "file_extension": ".py",
   "mimetype": "text/x-python",
   "name": "python",
   "nbconvert_exporter": "python",
   "pygments_lexer": "ipython3",
   "version": "3.6.4"
  }
 },
 "nbformat": 4,
 "nbformat_minor": 2
}
